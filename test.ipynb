{
 "cells": [
  {
   "cell_type": "code",
   "execution_count": 7,
   "metadata": {},
   "outputs": [],
   "source": [
    "from pydantic import BaseModel, root_validator\n",
    "\n",
    "\n",
    "class UserForm(BaseModel):\n",
    "    username: str | None\n",
    "    password: str | None\n",
    "\n",
    "\n",
    "class UserFormValidation(BaseModel):\n",
    "    valid_username: bool\n",
    "    valid_password: bool\n",
    "    valid: bool | None\n",
    "\n",
    "    @root_validator\n",
    "    def validate(cls, values) -> dict:\n",
    "        valid = (\n",
    "            True\n",
    "            if values[\"valid_username\"] and values[\"valid_password\"]\n",
    "            else False\n",
    "        )\n",
    "        values[\"valid\"] = valid\n",
    "        return values\n"
   ]
  },
  {
   "cell_type": "code",
   "execution_count": 10,
   "metadata": {},
   "outputs": [],
   "source": [
    "v = UserFormValidation(valid_password=True, valid_username=False)"
   ]
  },
  {
   "cell_type": "code",
   "execution_count": 11,
   "metadata": {},
   "outputs": [
    {
     "data": {
      "text/plain": [
       "{'valid_username': False, 'valid_password': True, 'valid': False}"
      ]
     },
     "execution_count": 11,
     "metadata": {},
     "output_type": "execute_result"
    }
   ],
   "source": [
    "v.dict()"
   ]
  },
  {
   "cell_type": "code",
   "execution_count": null,
   "metadata": {},
   "outputs": [],
   "source": []
  }
 ],
 "metadata": {
  "kernelspec": {
   "display_name": "Python 3.10.1 64-bit ('3.10.1')",
   "language": "python",
   "name": "python3"
  },
  "language_info": {
   "codemirror_mode": {
    "name": "ipython",
    "version": 3
   },
   "file_extension": ".py",
   "mimetype": "text/x-python",
   "name": "python",
   "nbconvert_exporter": "python",
   "pygments_lexer": "ipython3",
   "version": "3.10.1"
  },
  "orig_nbformat": 4,
  "vscode": {
   "interpreter": {
    "hash": "55729c9ac2c7dbad6f6d23b8a61c7691f855a2bc34416b74858e7ea5b72a26bc"
   }
  }
 },
 "nbformat": 4,
 "nbformat_minor": 2
}
