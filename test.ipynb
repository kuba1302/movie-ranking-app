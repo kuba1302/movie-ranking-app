{
 "cells": [
  {
   "cell_type": "code",
   "execution_count": 120,
   "metadata": {},
   "outputs": [
    {
     "name": "stdout",
     "output_type": "stream",
     "text": [
      "The autoreload extension is already loaded. To reload it, use:\n",
      "  %reload_ext autoreload\n"
     ]
    }
   ],
   "source": [
    "%load_ext autoreload\n",
    "%autoreload 2"
   ]
  },
  {
   "cell_type": "code",
   "execution_count": 139,
   "metadata": {},
   "outputs": [],
   "source": [
    "from pydantic import BaseModel\n",
    "from fastapi import Request\n",
    "\n",
    "class UserForm(BaseModel):\n",
    "    username: str | None\n",
    "    password: str | None\n",
    "\n",
    "\n",
    "class UserFormValidation(BaseModel):\n",
    "    valid_username: bool\n",
    "    valid_password: bool\n",
    "\n",
    "    @property\n",
    "    def valid(self) -> bool:\n",
    "        return True if self.valid_username and self.valid_password else False\n"
   ]
  },
  {
   "cell_type": "code",
   "execution_count": 15,
   "metadata": {},
   "outputs": [],
   "source": [
    "form = UserForm(username=None, password=\"test\")"
   ]
  },
  {
   "cell_type": "code",
   "execution_count": 17,
   "metadata": {},
   "outputs": [
    {
     "name": "stdout",
     "output_type": "stream",
     "text": [
      "2\n"
     ]
    }
   ],
   "source": [
    "if form.username:\n",
    "    print(1)\n",
    "else:\n",
    "    print(2)"
   ]
  },
  {
   "cell_type": "code",
   "execution_count": 19,
   "metadata": {},
   "outputs": [],
   "source": [
    "v = UserFormValidation(valid_password=True, valid_username=False)"
   ]
  },
  {
   "cell_type": "code",
   "execution_count": 20,
   "metadata": {},
   "outputs": [
    {
     "data": {
      "text/plain": [
       "{'valid_username': False, 'valid_password': True}"
      ]
     },
     "execution_count": 20,
     "metadata": {},
     "output_type": "execute_result"
    }
   ],
   "source": [
    "v.dict()"
   ]
  },
  {
   "cell_type": "code",
   "execution_count": 25,
   "metadata": {},
   "outputs": [
    {
     "data": {
      "text/plain": [
       "'$2b$12$6sLpSXOp7ujpe7eehqSmbeXMyDJB50zKiJv7fELWXob7zANWtnP/C'"
      ]
     },
     "execution_count": 25,
     "metadata": {},
     "output_type": "execute_result"
    }
   ],
   "source": [
    "from passlib.context import CryptContext\n",
    "pwd_context = CryptContext(schemes=[\"bcrypt\"], deprecated=\"auto\")\n",
    "pwd_context.hash(\"password2\")"
   ]
  },
  {
   "cell_type": "code",
   "execution_count": 26,
   "metadata": {},
   "outputs": [
    {
     "data": {
      "text/plain": [
       "60"
      ]
     },
     "execution_count": 26,
     "metadata": {},
     "output_type": "execute_result"
    }
   ],
   "source": [
    "len(\"$2b$12$6sLpSXOp7ujpe7eehqSmbeXMyDJB50zKiJv7fELWXob7zANWtnP/C\")"
   ]
  },
  {
   "cell_type": "code",
   "execution_count": 50,
   "metadata": {},
   "outputs": [],
   "source": [
    "class SignUpFormValidation(BaseModel):\n",
    "    valid_username: bool\n",
    "    valid_password: bool\n",
    "    valid_adress: bool\n",
    "    valid_city: bool\n",
    "    valid_country: bool\n",
    "\n",
    "    @property\n",
    "    def valid(self) -> bool:\n",
    "        bool_values_to_check = [\n",
    "            self.valid_username,\n",
    "            self.valid_password,\n",
    "            self.valid_adress,\n",
    "            self.valid_city,\n",
    "            self.valid_country,\n",
    "        ]\n",
    "        return True if all(bool_values_to_check) else False\n",
    "    \n",
    "    def update_value(self, key: str, value: bool) -> None:\n",
    "        setattr(self, key, value)\n"
   ]
  },
  {
   "cell_type": "code",
   "execution_count": 51,
   "metadata": {},
   "outputs": [],
   "source": [
    "val = SignUpFormValidation(\n",
    "    valid_adress=True,\n",
    "    valid_city=True,\n",
    "    valid_country=True,\n",
    "    valid_password=True,\n",
    "    valid_username=True,\n",
    ")\n"
   ]
  },
  {
   "cell_type": "code",
   "execution_count": 56,
   "metadata": {},
   "outputs": [
    {
     "data": {
      "text/plain": [
       "SignUpFormValidation(valid_username=True, valid_password=True, valid_adress=False, valid_city=True, valid_country=True)"
      ]
     },
     "execution_count": 56,
     "metadata": {},
     "output_type": "execute_result"
    }
   ],
   "source": [
    "val"
   ]
  },
  {
   "cell_type": "code",
   "execution_count": 54,
   "metadata": {},
   "outputs": [],
   "source": [
    "val.update_value(\"valid_adress\", False)"
   ]
  },
  {
   "cell_type": "code",
   "execution_count": 55,
   "metadata": {},
   "outputs": [
    {
     "data": {
      "text/plain": [
       "SignUpFormValidation(valid_username=True, valid_password=True, valid_adress=False, valid_city=True, valid_country=True)"
      ]
     },
     "execution_count": 55,
     "metadata": {},
     "output_type": "execute_result"
    }
   ],
   "source": [
    "val"
   ]
  },
  {
   "cell_type": "code",
   "execution_count": 124,
   "metadata": {},
   "outputs": [],
   "source": [
    "from src.sqlite import get_database_cursor_and_commit\n",
    "from src.sqlite.models import UserInfo\n",
    "from src.auth.models import SignUpForm, SignUpFormValidation"
   ]
  },
  {
   "cell_type": "code",
   "execution_count": 127,
   "metadata": {},
   "outputs": [],
   "source": [
    "class UserInfo(BaseModel):\n",
    "    user_id: int\n",
    "    adress: str\n",
    "    city: str\n",
    "    country: str"
   ]
  },
  {
   "cell_type": "code",
   "execution_count": 125,
   "metadata": {},
   "outputs": [],
   "source": [
    "new_user = \"user1\"\n",
    "new_password = \"password1\""
   ]
  },
  {
   "cell_type": "code",
   "execution_count": 137,
   "metadata": {},
   "outputs": [],
   "source": [
    "USER_CREATE_QUERY = f\"\"\"\n",
    "    --sql\n",
    "    INSERT INTO users(username, password_hash)\n",
    "    VALUES ('{new_user}', '{new_password}')\n",
    "    RETURNING id;\n",
    "    \"\"\"\n",
    "USER_INFO_CREATE_QUERY = \"\"\"\n",
    "    --sql\n",
    "    INSERT INTO users_info(user_id, adress, city, country)\n",
    "    VALUES (:user_id, :adress, :city, :country);\n",
    "\"\"\"\n"
   ]
  },
  {
   "cell_type": "code",
   "execution_count": 101,
   "metadata": {},
   "outputs": [],
   "source": [
    "def dict_from_row(row):\n",
    "    return dict(zip(row.keys(), row))"
   ]
  },
  {
   "cell_type": "code",
   "execution_count": 134,
   "metadata": {},
   "outputs": [],
   "source": [
    "form = SignUpForm(\n",
    "    city=\"dadaad\",\n",
    "    username=\"aaa\",\n",
    "    password=\"aa\",\n",
    "    adress=\"asdads\",\n",
    "    country=\"dasasd\",\n",
    ")"
   ]
  },
  {
   "cell_type": "code",
   "execution_count": 138,
   "metadata": {},
   "outputs": [
    {
     "name": "stdout",
     "output_type": "stream",
     "text": [
      "user_id=20 adress='asdads' city='dadaad' country='dasasd'\n"
     ]
    }
   ],
   "source": [
    "with get_database_cursor_and_commit() as cursor:\n",
    "    cursor.execute(USER_CREATE_QUERY)\n",
    "    \n",
    "    user_id = cursor.fetchone()[0]\n",
    "    user = UserInfo(user_id=user_id, **form.dict())\n",
    "    print(user)\n",
    "    cursor.execute(USER_INFO_CREATE_QUERY, user.dict())\n",
    "    \n",
    "    # data = dict_from_row(cursor.fetchone())"
   ]
  },
  {
   "cell_type": "code",
   "execution_count": null,
   "metadata": {},
   "outputs": [],
   "source": []
  }
 ],
 "metadata": {
  "kernelspec": {
   "display_name": "Python 3.10.1 64-bit ('3.10.1')",
   "language": "python",
   "name": "python3"
  },
  "language_info": {
   "codemirror_mode": {
    "name": "ipython",
    "version": 3
   },
   "file_extension": ".py",
   "mimetype": "text/x-python",
   "name": "python",
   "nbconvert_exporter": "python",
   "pygments_lexer": "ipython3",
   "version": "3.10.1"
  },
  "orig_nbformat": 4,
  "vscode": {
   "interpreter": {
    "hash": "55729c9ac2c7dbad6f6d23b8a61c7691f855a2bc34416b74858e7ea5b72a26bc"
   }
  }
 },
 "nbformat": 4,
 "nbformat_minor": 2
}
